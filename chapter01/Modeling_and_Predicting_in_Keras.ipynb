{
 "cells": [
  {
   "cell_type": "markdown",
   "metadata": {
    "colab_type": "text",
    "id": "FkWAPpaMX6FB"
   },
   "source": [
    "\n",
    "In this section, we will load a dataset, do exploratory data analysis (EDA) such as visualizing the distributions. We do typical preprocessing tasks such as encode categorical variables and normalize, and rescale for neural network training. We will then create a simple neural network model in keras and train the model plotting in offline fashion and using a generator, and plot the training and validation performance.\n"
   ]
  },
  {
   "cell_type": "markdown",
   "metadata": {
    "colab_type": "text",
    "id": "yWitkfdDBOR0"
   },
   "source": [
    "In this recipe, we are going to look at a still quite simple dataset, the [adult dataset](http://archive.ics.uci.edu/ml/datasets/Adult) from the [UCI machine learning repository](http://archive.ics.uci.edu/ml/datasets). With this dataset (also known as Census Income dataset), the goal is to predict from census data, whether someone earns more than 50,000 dollars.\n",
    "\n",
    "This dataset is already split into training and test. We will start by loading training and test sets."
   ]
  },
  {
   "cell_type": "code",
   "execution_count": 0,
   "metadata": {
    "colab": {
     "base_uri": "https://localhost:8080/",
     "height": 204
    },
    "colab_type": "code",
    "id": "V57_75MXCLNN",
    "outputId": "588cdfee-d662-4dd2-d712-3b5aaf1159b0"
   },
   "outputs": [
    {
     "name": "stdout",
     "output_type": "stream",
     "text": [
      "--2019-12-10 20:33:09--  http://archive.ics.uci.edu/ml/machine-learning-databases/adult/adult.data\n",
      "Resolving archive.ics.uci.edu (archive.ics.uci.edu)... 128.195.10.252\n",
      "Connecting to archive.ics.uci.edu (archive.ics.uci.edu)|128.195.10.252|:80... connected.\n",
      "HTTP request sent, awaiting response... 200 OK\n",
      "Length: 3974305 (3.8M) [application/x-httpd-php]\n",
      "Saving to: ‘adult.data’\n",
      "\n",
      "adult.data          100%[===================>]   3.79M  3.59MB/s    in 1.1s    \n",
      "\n",
      "2019-12-10 20:33:11 (3.59 MB/s) - ‘adult.data’ saved [3974305/3974305]\n",
      "\n"
     ]
    }
   ],
   "source": [
    "!wget http://archive.ics.uci.edu/ml/machine-learning-databases/adult/adult.data"
   ]
  },
  {
   "cell_type": "code",
   "execution_count": 0,
   "metadata": {
    "colab": {
     "base_uri": "https://localhost:8080/",
     "height": 306
    },
    "colab_type": "code",
    "id": "T0xod3gaCNSl",
    "outputId": "463d970f-ce83-46e7-f6a3-3f9f86f1518c"
   },
   "outputs": [
    {
     "data": {
      "text/html": [
       "<div>\n",
       "<style scoped>\n",
       "    .dataframe tbody tr th:only-of-type {\n",
       "        vertical-align: middle;\n",
       "    }\n",
       "\n",
       "    .dataframe tbody tr th {\n",
       "        vertical-align: top;\n",
       "    }\n",
       "\n",
       "    .dataframe thead th {\n",
       "        text-align: right;\n",
       "    }\n",
       "</style>\n",
       "<table border=\"1\" class=\"dataframe\">\n",
       "  <thead>\n",
       "    <tr style=\"text-align: right;\">\n",
       "      <th></th>\n",
       "      <th>age</th>\n",
       "      <th>workclass</th>\n",
       "      <th>fnlwgt</th>\n",
       "      <th>education</th>\n",
       "      <th>education-num</th>\n",
       "      <th>marital-status</th>\n",
       "      <th>occupation</th>\n",
       "      <th>relationship</th>\n",
       "      <th>race</th>\n",
       "      <th>sex</th>\n",
       "      <th>capital-gain</th>\n",
       "      <th>capital-loss</th>\n",
       "      <th>hours-per-week</th>\n",
       "      <th>native-country</th>\n",
       "      <th>50k</th>\n",
       "    </tr>\n",
       "  </thead>\n",
       "  <tbody>\n",
       "    <tr>\n",
       "      <th>0</th>\n",
       "      <td>39</td>\n",
       "      <td>State-gov</td>\n",
       "      <td>77516</td>\n",
       "      <td>Bachelors</td>\n",
       "      <td>13</td>\n",
       "      <td>Never-married</td>\n",
       "      <td>Adm-clerical</td>\n",
       "      <td>Not-in-family</td>\n",
       "      <td>White</td>\n",
       "      <td>Male</td>\n",
       "      <td>2174</td>\n",
       "      <td>0</td>\n",
       "      <td>40</td>\n",
       "      <td>United-States</td>\n",
       "      <td>&lt;=50K</td>\n",
       "    </tr>\n",
       "    <tr>\n",
       "      <th>1</th>\n",
       "      <td>50</td>\n",
       "      <td>Self-emp-not-inc</td>\n",
       "      <td>83311</td>\n",
       "      <td>Bachelors</td>\n",
       "      <td>13</td>\n",
       "      <td>Married-civ-spouse</td>\n",
       "      <td>Exec-managerial</td>\n",
       "      <td>Husband</td>\n",
       "      <td>White</td>\n",
       "      <td>Male</td>\n",
       "      <td>0</td>\n",
       "      <td>0</td>\n",
       "      <td>13</td>\n",
       "      <td>United-States</td>\n",
       "      <td>&lt;=50K</td>\n",
       "    </tr>\n",
       "    <tr>\n",
       "      <th>2</th>\n",
       "      <td>38</td>\n",
       "      <td>Private</td>\n",
       "      <td>215646</td>\n",
       "      <td>HS-grad</td>\n",
       "      <td>9</td>\n",
       "      <td>Divorced</td>\n",
       "      <td>Handlers-cleaners</td>\n",
       "      <td>Not-in-family</td>\n",
       "      <td>White</td>\n",
       "      <td>Male</td>\n",
       "      <td>0</td>\n",
       "      <td>0</td>\n",
       "      <td>40</td>\n",
       "      <td>United-States</td>\n",
       "      <td>&lt;=50K</td>\n",
       "    </tr>\n",
       "    <tr>\n",
       "      <th>3</th>\n",
       "      <td>53</td>\n",
       "      <td>Private</td>\n",
       "      <td>234721</td>\n",
       "      <td>11th</td>\n",
       "      <td>7</td>\n",
       "      <td>Married-civ-spouse</td>\n",
       "      <td>Handlers-cleaners</td>\n",
       "      <td>Husband</td>\n",
       "      <td>Black</td>\n",
       "      <td>Male</td>\n",
       "      <td>0</td>\n",
       "      <td>0</td>\n",
       "      <td>40</td>\n",
       "      <td>United-States</td>\n",
       "      <td>&lt;=50K</td>\n",
       "    </tr>\n",
       "    <tr>\n",
       "      <th>4</th>\n",
       "      <td>28</td>\n",
       "      <td>Private</td>\n",
       "      <td>338409</td>\n",
       "      <td>Bachelors</td>\n",
       "      <td>13</td>\n",
       "      <td>Married-civ-spouse</td>\n",
       "      <td>Prof-specialty</td>\n",
       "      <td>Wife</td>\n",
       "      <td>Black</td>\n",
       "      <td>Female</td>\n",
       "      <td>0</td>\n",
       "      <td>0</td>\n",
       "      <td>40</td>\n",
       "      <td>Cuba</td>\n",
       "      <td>&lt;=50K</td>\n",
       "    </tr>\n",
       "  </tbody>\n",
       "</table>\n",
       "</div>"
      ],
      "text/plain": [
       "   age          workclass  fnlwgt  ... hours-per-week  native-country     50k\n",
       "0   39          State-gov   77516  ...             40   United-States   <=50K\n",
       "1   50   Self-emp-not-inc   83311  ...             13   United-States   <=50K\n",
       "2   38            Private  215646  ...             40   United-States   <=50K\n",
       "3   53            Private  234721  ...             40   United-States   <=50K\n",
       "4   28            Private  338409  ...             40            Cuba   <=50K\n",
       "\n",
       "[5 rows x 15 columns]"
      ]
     },
     "execution_count": 4,
     "metadata": {
      "tags": []
     },
     "output_type": "execute_result"
    }
   ],
   "source": [
    "import pandas as pd\n",
    "train = pd.read_csv(\n",
    "    'adult.data',\n",
    "    names=['age', 'workclass', 'fnlwgt',\n",
    "             'education', 'education-num',\n",
    "             'marital-status', 'occupation',\n",
    "             'relationship', 'race', 'sex',\n",
    "             'capital-gain', 'capital-loss',\n",
    "             'hours-per-week', 'native-country', '50k']\n",
    "             )\n",
    "train.head()"
   ]
  },
  {
   "cell_type": "code",
   "execution_count": 0,
   "metadata": {
    "colab": {
     "base_uri": "https://localhost:8080/",
     "height": 357
    },
    "colab_type": "code",
    "id": "C0wBBWQMDY3d",
    "outputId": "5e68b1d2-53db-4809-e8f8-553a310ec5c9"
   },
   "outputs": [
    {
     "name": "stdout",
     "output_type": "stream",
     "text": [
      "<class 'pandas.core.frame.DataFrame'>\n",
      "RangeIndex: 32561 entries, 0 to 32560\n",
      "Data columns (total 15 columns):\n",
      "age               32561 non-null int64\n",
      "workclass         32561 non-null object\n",
      "fnlwgt            32561 non-null int64\n",
      "education         32561 non-null object\n",
      "education-num     32561 non-null int64\n",
      "marital-status    32561 non-null object\n",
      "occupation        32561 non-null object\n",
      "relationship      32561 non-null object\n",
      "race              32561 non-null object\n",
      "sex               32561 non-null object\n",
      "capital-gain      32561 non-null int64\n",
      "capital-loss      32561 non-null int64\n",
      "hours-per-week    32561 non-null int64\n",
      "native-country    32561 non-null object\n",
      "50k               32561 non-null object\n",
      "dtypes: int64(6), object(9)\n",
      "memory usage: 3.7+ MB\n"
     ]
    }
   ],
   "source": [
    "train.info()"
   ]
  },
  {
   "cell_type": "markdown",
   "metadata": {
    "colab_type": "text",
    "id": "l3ny_HFQy4IA"
   },
   "source": [
    "We have the following information from the UCI description page: \n",
    "* age: continuous.\n",
    "* workclass: Private, Self-emp-not-inc, Self-emp-inc, Federal-gov, Local-gov, State-gov, Without-pay, Never-worked.\n",
    "* fnlwgt: continuous.\n",
    "* education: Bachelors, Some-college, 11th, HS-grad, Prof-school, Assoc-acdm, Assoc-voc, 9th, 7th-8th, 12th, Masters, 1st-4th, 10th, Doctorate, 5th-6th, Preschool.\n",
    "* education-num: continuous.\n",
    "* marital-status: Married-civ-spouse, Divorced, Never-married, Separated, Widowed, Married-spouse-absent, Married-AF-spouse.\n",
    "* occupation: Tech-support, Craft-repair, Other-service, Sales, Exec-managerial, Prof-specialty, Handlers-cleaners, Machine-op-inspct, Adm-clerical, Farming-fishing, Transport-moving, Priv-house-serv, Protective-serv, Armed-Forces.\n",
    "* relationship: Wife, Own-child, Husband, Not-in-family, Other-relative, Unmarried.\n",
    "* race: White, Asian-Pac-Islander, Amer-Indian-Eskimo, Other, Black.\n",
    "* sex: Female, Male.\n",
    "* capital-gain: continuous.\n",
    "* capital-loss: continuous.\n",
    "* hours-per-week: continuous.\n",
    "* native-country: United-States, etc.\n",
    "\n",
    "\"fnlwgt\" actually stands for the final weight, i.e. the total number of people constituting the entry."
   ]
  },
  {
   "cell_type": "code",
   "execution_count": 0,
   "metadata": {
    "colab": {
     "base_uri": "https://localhost:8080/",
     "height": 68
    },
    "colab_type": "code",
    "id": "bUrTvz6-kw9h",
    "outputId": "e69d90e9-b552-4724-fe8a-12a172c3af90"
   },
   "outputs": [
    {
     "data": {
      "text/plain": [
       "Index(['workclass', 'education', 'marital-status', 'occupation',\n",
       "       'relationship', 'race', 'sex', 'native-country', '50k'],\n",
       "      dtype='object')"
      ]
     },
     "execution_count": 5,
     "metadata": {
      "tags": []
     },
     "output_type": "execute_result"
    }
   ],
   "source": [
    "train.select_dtypes(include='object').columns"
   ]
  },
  {
   "cell_type": "markdown",
   "metadata": {
    "colab_type": "text",
    "id": "7G9CaiB94_iq"
   },
   "source": [
    "We cannot do much with string encoding, unfortunately. As a first step we are going to transform these variables using Ordinal Encoding. We can do this very flexibly using the *category_encoding* package in *sklearn-contrib*.\n"
   ]
  },
  {
   "cell_type": "code",
   "execution_count": 0,
   "metadata": {
    "colab": {
     "base_uri": "https://localhost:8080/",
     "height": 292
    },
    "colab_type": "code",
    "id": "emJ7vHnTkPJq",
    "outputId": "88666b5d-da8f-4462-a818-f14ecc12105b"
   },
   "outputs": [
    {
     "name": "stdout",
     "output_type": "stream",
     "text": [
      "Collecting category_encoders\n",
      "\u001b[?25l  Downloading https://files.pythonhosted.org/packages/a0/52/c54191ad3782de633ea3d6ee3bb2837bda0cf3bc97644bb6375cf14150a0/category_encoders-2.1.0-py2.py3-none-any.whl (100kB)\n",
      "\r",
      "\u001b[K     |███▎                            | 10kB 15.4MB/s eta 0:00:01\r",
      "\u001b[K     |██████▌                         | 20kB 1.9MB/s eta 0:00:01\r",
      "\u001b[K     |█████████▉                      | 30kB 2.7MB/s eta 0:00:01\r",
      "\u001b[K     |█████████████                   | 40kB 1.7MB/s eta 0:00:01\r",
      "\u001b[K     |████████████████▍               | 51kB 2.1MB/s eta 0:00:01\r",
      "\u001b[K     |███████████████████▋            | 61kB 2.5MB/s eta 0:00:01\r",
      "\u001b[K     |██████████████████████▉         | 71kB 2.9MB/s eta 0:00:01\r",
      "\u001b[K     |██████████████████████████▏     | 81kB 3.3MB/s eta 0:00:01\r",
      "\u001b[K     |█████████████████████████████▍  | 92kB 3.7MB/s eta 0:00:01\r",
      "\u001b[K     |████████████████████████████████| 102kB 2.4MB/s \n",
      "\u001b[?25hRequirement already satisfied: numpy>=1.11.3 in /usr/local/lib/python3.6/dist-packages (from category_encoders) (1.17.4)\n",
      "Requirement already satisfied: pandas>=0.21.1 in /usr/local/lib/python3.6/dist-packages (from category_encoders) (0.25.3)\n",
      "Requirement already satisfied: scipy>=0.19.0 in /usr/local/lib/python3.6/dist-packages (from category_encoders) (1.3.3)\n",
      "Requirement already satisfied: patsy>=0.4.1 in /usr/local/lib/python3.6/dist-packages (from category_encoders) (0.5.1)\n",
      "Requirement already satisfied: statsmodels>=0.6.1 in /usr/local/lib/python3.6/dist-packages (from category_encoders) (0.10.2)\n",
      "Requirement already satisfied: scikit-learn>=0.20.0 in /usr/local/lib/python3.6/dist-packages (from category_encoders) (0.21.3)\n",
      "Requirement already satisfied: pytz>=2017.2 in /usr/local/lib/python3.6/dist-packages (from pandas>=0.21.1->category_encoders) (2018.9)\n",
      "Requirement already satisfied: python-dateutil>=2.6.1 in /usr/local/lib/python3.6/dist-packages (from pandas>=0.21.1->category_encoders) (2.6.1)\n",
      "Requirement already satisfied: six in /usr/local/lib/python3.6/dist-packages (from patsy>=0.4.1->category_encoders) (1.12.0)\n",
      "Requirement already satisfied: joblib>=0.11 in /usr/local/lib/python3.6/dist-packages (from scikit-learn>=0.20.0->category_encoders) (0.14.0)\n",
      "Installing collected packages: category-encoders\n",
      "Successfully installed category-encoders-2.1.0\n"
     ]
    }
   ],
   "source": [
    "!pip install category_encoders==2.1.0"
   ]
  },
  {
   "cell_type": "code",
   "execution_count": 0,
   "metadata": {
    "colab": {
     "base_uri": "https://localhost:8080/",
     "height": 221
    },
    "colab_type": "code",
    "id": "erM0qk-YmmLd",
    "outputId": "e8f84cfc-7a4e-4f20-b261-5694e8c6211f"
   },
   "outputs": [
    {
     "data": {
      "text/html": [
       "<div>\n",
       "<style scoped>\n",
       "    .dataframe tbody tr th:only-of-type {\n",
       "        vertical-align: middle;\n",
       "    }\n",
       "\n",
       "    .dataframe tbody tr th {\n",
       "        vertical-align: top;\n",
       "    }\n",
       "\n",
       "    .dataframe thead th {\n",
       "        text-align: right;\n",
       "    }\n",
       "</style>\n",
       "<table border=\"1\" class=\"dataframe\">\n",
       "  <thead>\n",
       "    <tr style=\"text-align: right;\">\n",
       "      <th></th>\n",
       "      <th>age</th>\n",
       "      <th>workclass</th>\n",
       "      <th>fnlwgt</th>\n",
       "      <th>education</th>\n",
       "      <th>education-num</th>\n",
       "      <th>marital-status</th>\n",
       "      <th>occupation</th>\n",
       "      <th>relationship</th>\n",
       "      <th>race</th>\n",
       "      <th>sex</th>\n",
       "      <th>capital-gain</th>\n",
       "      <th>capital-loss</th>\n",
       "      <th>hours-per-week</th>\n",
       "      <th>native-country</th>\n",
       "    </tr>\n",
       "  </thead>\n",
       "  <tbody>\n",
       "    <tr>\n",
       "      <th>0</th>\n",
       "      <td>39</td>\n",
       "      <td>1</td>\n",
       "      <td>77516</td>\n",
       "      <td>1</td>\n",
       "      <td>13</td>\n",
       "      <td>1</td>\n",
       "      <td>1</td>\n",
       "      <td>1</td>\n",
       "      <td>1</td>\n",
       "      <td>1</td>\n",
       "      <td>2174</td>\n",
       "      <td>0</td>\n",
       "      <td>40</td>\n",
       "      <td>1</td>\n",
       "    </tr>\n",
       "    <tr>\n",
       "      <th>1</th>\n",
       "      <td>50</td>\n",
       "      <td>2</td>\n",
       "      <td>83311</td>\n",
       "      <td>1</td>\n",
       "      <td>13</td>\n",
       "      <td>2</td>\n",
       "      <td>2</td>\n",
       "      <td>2</td>\n",
       "      <td>1</td>\n",
       "      <td>1</td>\n",
       "      <td>0</td>\n",
       "      <td>0</td>\n",
       "      <td>13</td>\n",
       "      <td>1</td>\n",
       "    </tr>\n",
       "    <tr>\n",
       "      <th>2</th>\n",
       "      <td>38</td>\n",
       "      <td>3</td>\n",
       "      <td>215646</td>\n",
       "      <td>2</td>\n",
       "      <td>9</td>\n",
       "      <td>3</td>\n",
       "      <td>3</td>\n",
       "      <td>1</td>\n",
       "      <td>1</td>\n",
       "      <td>1</td>\n",
       "      <td>0</td>\n",
       "      <td>0</td>\n",
       "      <td>40</td>\n",
       "      <td>1</td>\n",
       "    </tr>\n",
       "    <tr>\n",
       "      <th>3</th>\n",
       "      <td>53</td>\n",
       "      <td>3</td>\n",
       "      <td>234721</td>\n",
       "      <td>3</td>\n",
       "      <td>7</td>\n",
       "      <td>2</td>\n",
       "      <td>3</td>\n",
       "      <td>2</td>\n",
       "      <td>2</td>\n",
       "      <td>1</td>\n",
       "      <td>0</td>\n",
       "      <td>0</td>\n",
       "      <td>40</td>\n",
       "      <td>1</td>\n",
       "    </tr>\n",
       "    <tr>\n",
       "      <th>4</th>\n",
       "      <td>28</td>\n",
       "      <td>3</td>\n",
       "      <td>338409</td>\n",
       "      <td>1</td>\n",
       "      <td>13</td>\n",
       "      <td>2</td>\n",
       "      <td>4</td>\n",
       "      <td>3</td>\n",
       "      <td>2</td>\n",
       "      <td>2</td>\n",
       "      <td>0</td>\n",
       "      <td>0</td>\n",
       "      <td>40</td>\n",
       "      <td>2</td>\n",
       "    </tr>\n",
       "  </tbody>\n",
       "</table>\n",
       "</div>"
      ],
      "text/plain": [
       "   age  workclass  fnlwgt  ...  capital-loss  hours-per-week  native-country\n",
       "0   39          1   77516  ...             0              40               1\n",
       "1   50          2   83311  ...             0              13               1\n",
       "2   38          3  215646  ...             0              40               1\n",
       "3   53          3  234721  ...             0              40               1\n",
       "4   28          3  338409  ...             0              40               2\n",
       "\n",
       "[5 rows x 14 columns]"
      ]
     },
     "execution_count": 107,
     "metadata": {
      "tags": []
     },
     "output_type": "execute_result"
    }
   ],
   "source": [
    "import category_encoders as ce\n",
    "\n",
    "X = train.drop('50k', axis=1)\n",
    "encoder = ce.OrdinalEncoder(cols=list(X.select_dtypes(include='object').columns)[:])\n",
    "encoder.fit(X, train['50k'])\n",
    "X_cleaned = encoder.transform(X)\n",
    "\n",
    "X_cleaned.head()"
   ]
  },
  {
   "cell_type": "markdown",
   "metadata": {
    "colab_type": "text",
    "id": "BrhJ8kSTnqyb"
   },
   "source": [
    "When starting with a new task, the best is often to examine the data. Let us have a look at the variables."
   ]
  },
  {
   "cell_type": "code",
   "execution_count": 0,
   "metadata": {
    "colab": {},
    "colab_type": "code",
    "id": "FaPUElVj5IMi"
   },
   "outputs": [],
   "source": [
    "from scipy import stats\n",
    "from matplotlib import pyplot\n",
    "a5_dims = (8.27, 11.7 / 2)\n",
    "import seaborn as sns\n",
    "sns.set(color_codes=True)\n",
    "sns.set_context(\"notebook\", font_scale=1.5, rc={\"lines.linewidth\": 2.0})"
   ]
  },
  {
   "cell_type": "code",
   "execution_count": 0,
   "metadata": {
    "colab": {
     "base_uri": "https://localhost:8080/",
     "height": 298
    },
    "colab_type": "code",
    "id": "X41KGK-156wJ",
    "outputId": "205e19e0-ea2d-4061-a2e8-4216e1c3f98c"
   },
   "outputs": [
    {
     "data": {
      "image/png": "[encoded data removed]",
      "text/plain": [
       "<Figure size 432x288 with 1 Axes>"
      ]
     },
     "metadata": {
      "tags": []
     },
     "output_type": "display_data"
    }
   ],
   "source": [
    "sns.distplot(train['age'], bins=20, kde=False, fit=stats.gamma);"
   ]
  },
  {
   "cell_type": "code",
   "execution_count": 0,
   "metadata": {
    "colab": {
     "base_uri": "https://localhost:8080/",
     "height": 892
    },
    "colab_type": "code",
    "id": "OFbZtvpR9c1i",
    "outputId": "cf03bff5-9bd6-4715-b655-ffa05cbb203e"
   },
   "outputs": [
    {
     "data": {
      "image/png": "[encoded data removed]",
      "text/plain": [
       "<Figure size 1024.15x900 with 30 Axes>"
      ]
     },
     "metadata": {
      "tags": []
     },
     "output_type": "display_data"
    }
   ],
   "source": [
    "# plot all numeric variables against each other\n",
    "g = sns.pairplot(\n",
    "    train[list(\n",
    "        set(train.select_dtypes(include='number').columns)\n",
    "        - set(['education-num'])\n",
    "        ) + ['50k']],\n",
    "    hue='50k',\n",
    "    height=2.5,\n",
    "    aspect=1,\n",
    ")\n",
    "import numpy as np\n",
    "for i, j in zip(*np.triu_indices_from(g.axes, 1)):\n",
    "    g.axes[i, j].set_visible(False)"
   ]
  },
  {
   "cell_type": "markdown",
   "metadata": {
    "colab_type": "text",
    "id": "fWpX814__Gbg"
   },
   "source": [
    "We can observe variables with respect to each other. For example, we can ask if age could be one of the determiners of higher salary."
   ]
  },
  {
   "cell_type": "code",
   "execution_count": 0,
   "metadata": {
    "colab": {
     "base_uri": "https://localhost:8080/",
     "height": 386
    },
    "colab_type": "code",
    "id": "x0r2_FTj88IS",
    "outputId": "1b5d734d-33c3-4b6d-9c7c-3a9ec678edde"
   },
   "outputs": [
    {
     "data": {
      "text/plain": [
       "<seaborn.axisgrid.FacetGrid at 0x7fc5d5d2a630>"
      ]
     },
     "execution_count": 126,
     "metadata": {
      "tags": []
     },
     "output_type": "execute_result"
    },
    {
     "data": {
      "image/png": "[encoded data removed]",
      "text/plain": [
       "<Figure size 360x360 with 1 Axes>"
      ]
     },
     "metadata": {
      "tags": []
     },
     "output_type": "display_data"
    }
   ],
   "source": [
    "sns.catplot(x='50k', y='age', kind='box', data=train)\n"
   ]
  },
  {
   "cell_type": "markdown",
   "metadata": {
    "colab_type": "text",
    "id": "QCwS3nDTiycs"
   },
   "source": [
    "To get an idea of the redundancy between variables, we'll plot a correlation matrix based on Maximal Information-based Nonparametric Exploration ([Reshef et al, ScienceMag 2011](https://science.sciencemag.org/content/334/6062/1518.full)). This measure has been hailed as the correlation metric of the 21st century in science magazine. It ranges between 0, no correlation, and 1, perfect correlation."
   ]
  },
  {
   "cell_type": "code",
   "execution_count": 0,
   "metadata": {
    "colab": {
     "base_uri": "https://localhost:8080/",
     "height": 212
    },
    "colab_type": "code",
    "id": "zafAJG3Bhkl6",
    "outputId": "f5e6bdd8-1574-4cd5-fd8d-1493161d4ba2"
   },
   "outputs": [
    {
     "name": "stdout",
     "output_type": "stream",
     "text": [
      "Collecting minepy\n",
      "\u001b[?25l  Downloading https://files.pythonhosted.org/packages/90/a6/cdfe0f50b16d18196b3a21d3df8c06c361ccbd553717093133a88227823b/minepy-1.2.4.tar.gz (493kB)\n",
      "\u001b[K     |████████████████████████████████| 501kB 2.8MB/s \n",
      "\u001b[?25hRequirement already satisfied: numpy>=1.3.0 in /usr/local/lib/python3.6/dist-packages (from minepy) (1.17.4)\n",
      "Building wheels for collected packages: minepy\n",
      "  Building wheel for minepy (setup.py) ... \u001b[?25l\u001b[?25hdone\n",
      "  Created wheel for minepy: filename=minepy-1.2.4-cp36-cp36m-linux_x86_64.whl size=174005 sha256=c9d4bc696ca9762ca2a202b6e9f1c4da60b2566e06ad4a574ef4491a7e82114d\n",
      "  Stored in directory: /root/.cache/pip/wheels/ea/ad/3a/0e6f5c87be5ee6ad987bd7a317dd6b92e616d559f63f4d8acc\n",
      "Successfully built minepy\n",
      "Installing collected packages: minepy\n",
      "Successfully installed minepy-1.2.4\n"
     ]
    }
   ],
   "source": [
    "!pip install minepy==1.2.4"
   ]
  },
  {
   "cell_type": "code",
   "execution_count": 0,
   "metadata": {
    "colab": {},
    "colab_type": "code",
    "id": "X8q3kfNBq5vA"
   },
   "outputs": [],
   "source": [
    "corrs = X_cleaned.corr(method='spearman').values"
   ]
  },
  {
   "cell_type": "code",
   "execution_count": 0,
   "metadata": {
    "colab": {},
    "colab_type": "code",
    "id": "NqA-M-tLr72y"
   },
   "outputs": [],
   "source": [
    "import numpy as np\n",
    "import os\n",
    "from sklearn.metrics.cluster import adjusted_mutual_info_score\n",
    "from minepy import MINE\n",
    "import multiprocessing\n",
    "\n",
    "def calc_mic(args):\n",
    "  (a, b, i1, i2) = args\n",
    "  mine = MINE(alpha=0.6, c=15, est='mic_approx')\n",
    "  mine.compute_score(a, b)\n",
    "  return (mine.mic(), i1, i2)\n",
    "\n",
    "pool = multiprocessing.Pool(os.cpu_count())\n",
    "\n",
    "corrs = np.zeros((len(X_cleaned.columns), len(X_cleaned.columns)))\n",
    "queue = []\n",
    "for i1, col1 in enumerate(X_cleaned.columns):\n",
    "  if i1 == 1:\n",
    "    continue\n",
    "  for i2, col2 in enumerate(X_cleaned.columns):\n",
    "    if i1 < i2:\n",
    "      continue\n",
    "    queue.append((X_cleaned[col1], X_cleaned[col2], i1, i2))\n",
    "\n",
    "results = pool.map(calc_mic, queue)\n",
    "\n",
    "for (mic, i1, i2) in results:\n",
    "  corrs[i1, i2] = mic"
   ]
  },
  {
   "cell_type": "code",
   "execution_count": 0,
   "metadata": {
    "colab": {},
    "colab_type": "code",
    "id": "PTD9A7qO7zd3"
   },
   "outputs": [],
   "source": [
    "corrs = pd.DataFrame(\n",
    "    corrs,\n",
    "    columns=list(X_cleaned.columns),\n",
    "    index=list(X_cleaned.columns)\n",
    ")"
   ]
  },
  {
   "cell_type": "code",
   "execution_count": 0,
   "metadata": {
    "colab": {
     "base_uri": "https://localhost:8080/",
     "height": 370
    },
    "colab_type": "code",
    "id": "0Gh8-75cc7S9",
    "outputId": "0919466d-1f1a-4cdd-8a35-eafcd2dbaeda"
   },
   "outputs": [
    {
     "data": {
      "text/plain": [
       "<matplotlib.axes._subplots.AxesSubplot at 0x7f0c8cc0c240>"
      ]
     },
     "execution_count": 31,
     "metadata": {
      "tags": []
     },
     "output_type": "execute_result"
    },
    {
     "data": {
      "image/png": "[encoded data removed]",
      "text/plain": [
       "<Figure size 432x288 with 2 Axes>"
      ]
     },
     "metadata": {
      "tags": []
     },
     "output_type": "display_data"
    }
   ],
   "source": [
    "mask = np.zeros_like(corrs, dtype=np.bool)\n",
    "mask[np.triu_indices_from(mask)] = True\n",
    "cmap = sns.diverging_palette(h_neg=220, h_pos=10, n=50, as_cmap=True)\n",
    "sns.set_context(\"notebook\", font_scale=1.1, rc={\"lines.linewidth\": 2.0})\n",
    "sns.heatmap(\n",
    "    corrs,\n",
    "    square=True,\n",
    "    mask=mask,\n",
    "    cmap=cmap, vmax=1.0, center=0.5,\n",
    "    linewidths=.5,\n",
    "    cbar_kws={\"shrink\": .5}\n",
    ")"
   ]
  },
  {
   "cell_type": "markdown",
   "metadata": {
    "colab_type": "text",
    "id": "ZhlzQTW4fomr"
   },
   "source": [
    "Most features are relatively uncorrelated, however there is one pair of variables that stands out."
   ]
  },
  {
   "cell_type": "code",
   "execution_count": 0,
   "metadata": {
    "colab": {
     "base_uri": "https://localhost:8080/",
     "height": 34
    },
    "colab_type": "code",
    "id": "VGxmjeNe7s7e",
    "outputId": "9539c102-9f0c-434b-b496-4b33bb952999"
   },
   "outputs": [
    {
     "data": {
      "text/plain": [
       "0.9995095286140694"
      ]
     },
     "execution_count": 33,
     "metadata": {
      "tags": []
     },
     "output_type": "execute_result"
    }
   ],
   "source": [
    "corrs.loc['education-num', 'education']"
   ]
  },
  {
   "cell_type": "code",
   "execution_count": 0,
   "metadata": {
    "colab": {
     "base_uri": "https://localhost:8080/",
     "height": 323
    },
    "colab_type": "code",
    "id": "BLNBsHHufXh3",
    "outputId": "eb173879-effc-4afb-a087-dbf83f12eaa4"
   },
   "outputs": [
    {
     "data": {
      "text/plain": [
       "education\n",
       " 10th            0.0\n",
       " 11th            0.0\n",
       " 12th            0.0\n",
       " 1st-4th         0.0\n",
       " 5th-6th         0.0\n",
       " 7th-8th         0.0\n",
       " 9th             0.0\n",
       " Assoc-acdm      0.0\n",
       " Assoc-voc       0.0\n",
       " Bachelors       0.0\n",
       " Doctorate       0.0\n",
       " HS-grad         0.0\n",
       " Masters         0.0\n",
       " Preschool       0.0\n",
       " Prof-school     0.0\n",
       " Some-college    0.0\n",
       "Name: education-num, dtype: float64"
      ]
     },
     "execution_count": 6,
     "metadata": {
      "tags": []
     },
     "output_type": "execute_result"
    }
   ],
   "source": [
    "train.groupby(by='education')['education-num'].std()"
   ]
  },
  {
   "cell_type": "markdown",
   "metadata": {
    "colab_type": "text",
    "id": "VJ-X_gab8C38"
   },
   "source": [
    "Education-num and Education are exactly the same."
   ]
  },
  {
   "cell_type": "markdown",
   "metadata": {
    "colab_type": "text",
    "id": "oJFWs2L5iMDH"
   },
   "source": [
    "The UCI description page mentions missing variables, however, we cannot see any missing values here."
   ]
  },
  {
   "cell_type": "code",
   "execution_count": 0,
   "metadata": {
    "colab": {
     "base_uri": "https://localhost:8080/",
     "height": 289
    },
    "colab_type": "code",
    "id": "jsp3qu0AhNHW",
    "outputId": "ec717259-0188-43ea-a8e2-cf04ae0f2efc"
   },
   "outputs": [
    {
     "data": {
      "text/plain": [
       "age               False\n",
       "workclass         False\n",
       "fnlwgt            False\n",
       "education         False\n",
       "education-num     False\n",
       "marital-status    False\n",
       "occupation        False\n",
       "relationship      False\n",
       "race              False\n",
       "sex               False\n",
       "capital-gain      False\n",
       "capital-loss      False\n",
       "hours-per-week    False\n",
       "native-country    False\n",
       "50k               False\n",
       "dtype: bool"
      ]
     },
     "execution_count": 7,
     "metadata": {
      "tags": []
     },
     "output_type": "execute_result"
    }
   ],
   "source": [
    "train.isnull().any()"
   ]
  },
  {
   "cell_type": "markdown",
   "metadata": {
    "colab_type": "text",
    "id": "m8MDWRHc52Jb"
   },
   "source": [
    "For neural network training, for categorical variables, we have the choice of either using embeddings or feeding them as one-hot-encodings. Let us try one-hot-encodings for simplicity."
   ]
  },
  {
   "cell_type": "code",
   "execution_count": 0,
   "metadata": {
    "colab": {},
    "colab_type": "code",
    "id": "gMojSf5YmdAZ"
   },
   "outputs": [],
   "source": [
    "encoder = ce.OneHotEncoder(cols=list(X.select_dtypes(include='object').columns)[:])\n",
    "encoder.fit(X, train['50k'])\n",
    "X_cleaned = encoder.transform(X)"
   ]
  },
  {
   "cell_type": "code",
   "execution_count": 0,
   "metadata": {
    "colab": {
     "base_uri": "https://localhost:8080/",
     "height": 170
    },
    "colab_type": "code",
    "id": "7rtYdAq66ixa",
    "outputId": "cb34414a-a9af-493a-8a7c-6f931bd0a1c6"
   },
   "outputs": [
    {
     "data": {
      "text/plain": [
       "Index(['age', 'workclass_1', 'workclass_2', 'workclass_3', 'workclass_4',\n",
       "       'workclass_5', 'workclass_6', 'workclass_7', 'workclass_8',\n",
       "       'workclass_9',\n",
       "       ...\n",
       "       'native-country_33', 'native-country_34', 'native-country_35',\n",
       "       'native-country_36', 'native-country_37', 'native-country_38',\n",
       "       'native-country_39', 'native-country_40', 'native-country_41',\n",
       "       'native-country_42'],\n",
       "      dtype='object', length=108)"
      ]
     },
     "execution_count": 102,
     "metadata": {
      "tags": []
     },
     "output_type": "execute_result"
    }
   ],
   "source": [
    "X_cleaned.columns"
   ]
  },
  {
   "cell_type": "code",
   "execution_count": 0,
   "metadata": {
    "colab": {},
    "colab_type": "code",
    "id": "psL6J71N6YI6"
   },
   "outputs": [],
   "source": [
    "x_cleaned_cols = X_cleaned.columns"
   ]
  },
  {
   "cell_type": "code",
   "execution_count": 0,
   "metadata": {
    "colab": {
     "base_uri": "https://localhost:8080/",
     "height": 34
    },
    "colab_type": "code",
    "id": "vav_7GL9ngjS",
    "outputId": "d5dbdea3-bec7-4f0e-ac26-0a687154684b"
   },
   "outputs": [
    {
     "data": {
      "text/plain": [
       "array([' <=50K', ' >50K'], dtype=object)"
      ]
     },
     "execution_count": 25,
     "metadata": {
      "tags": []
     },
     "output_type": "execute_result"
    }
   ],
   "source": [
    "train['50k'].unique()"
   ]
  },
  {
   "cell_type": "markdown",
   "metadata": {
    "colab_type": "text",
    "id": "grcDEp4BoZ9R"
   },
   "source": [
    "We are going to encode target values in two columns as 1 if present and 0 if not present. It is good to remember that the python truth values correspond to this. "
   ]
  },
  {
   "cell_type": "code",
   "execution_count": 0,
   "metadata": {
    "colab": {
     "base_uri": "https://localhost:8080/",
     "height": 34
    },
    "colab_type": "code",
    "id": "cGxmeBo6oTsd",
    "outputId": "7b082909-6000-46b6-e764-a530c3857d79"
   },
   "outputs": [
    {
     "data": {
      "text/plain": [
       "[1, 0]"
      ]
     },
     "execution_count": 28,
     "metadata": {
      "tags": []
     },
     "output_type": "execute_result"
    }
   ],
   "source": [
    "[int(val) for val in [True, False]]"
   ]
  },
  {
   "cell_type": "code",
   "execution_count": 0,
   "metadata": {
    "colab": {},
    "colab_type": "code",
    "id": "hhe11FlSn--V"
   },
   "outputs": [],
   "source": [
    "y = np.zeros((len(X_cleaned), 2))\n",
    "y[:, 0] = train['50k'].apply(lambda x: x == ' <=50K')\n",
    "y[:, 1] = train['50k'].apply(lambda x: x == ' >50K')"
   ]
  },
  {
   "cell_type": "code",
   "execution_count": 0,
   "metadata": {
    "colab": {},
    "colab_type": "code",
    "id": "5eoapl8upLbW"
   },
   "outputs": [],
   "source": [
    "from sklearn.preprocessing import StandardScaler\n",
    "\n",
    "standard_scaler = StandardScaler()"
   ]
  },
  {
   "cell_type": "code",
   "execution_count": 0,
   "metadata": {
    "colab": {},
    "colab_type": "code",
    "id": "o0ueTgMjpYlN"
   },
   "outputs": [],
   "source": [
    "X_cleaned = standard_scaler.fit_transform(X_cleaned)"
   ]
  },
  {
   "cell_type": "markdown",
   "metadata": {
    "colab_type": "text",
    "id": "2L6t9sjTif-j"
   },
   "source": [
    "We are ready to start training. For good practice, we will save the dataset and our two encoders, the one-hot encoder and the standard scaler, so we can trace our changes."
   ]
  },
  {
   "cell_type": "code",
   "execution_count": 0,
   "metadata": {
    "colab": {},
    "colab_type": "code",
    "id": "E5EhLJGjjJP1"
   },
   "outputs": [],
   "source": [
    "X_cleaned.to_csv('adult_before_training.csv', index=False)"
   ]
  },
  {
   "cell_type": "code",
   "execution_count": 0,
   "metadata": {
    "colab": {},
    "colab_type": "code",
    "id": "px2GGs1kjxwf"
   },
   "outputs": [],
   "source": [
    "import joblib"
   ]
  },
  {
   "cell_type": "code",
   "execution_count": 0,
   "metadata": {
    "colab": {
     "base_uri": "https://localhost:8080/",
     "height": 34
    },
    "colab_type": "code",
    "id": "1bMU1wuvj4bX",
    "outputId": "17910b4d-a578-4317-a3e1-18be47c56e5d"
   },
   "outputs": [
    {
     "data": {
      "text/plain": [
       "['adult_encoder.joblib']"
      ]
     },
     "execution_count": 36,
     "metadata": {
      "tags": []
     },
     "output_type": "execute_result"
    }
   ],
   "source": [
    "joblib.dump([encoder, standard_scaler], 'adult_encoder.joblib')"
   ]
  },
  {
   "cell_type": "code",
   "execution_count": 0,
   "metadata": {
    "colab": {
     "base_uri": "https://localhost:8080/",
     "height": 34
    },
    "colab_type": "code",
    "id": "rkfngbqAqKEc",
    "outputId": "4f4e4365-0d17-4d41-9e81-114372941d5d"
   },
   "outputs": [
    {
     "data": {
      "text/plain": [
       "(32561, 108)"
      ]
     },
     "execution_count": 39,
     "metadata": {
      "tags": []
     },
     "output_type": "execute_result"
    }
   ],
   "source": [
    "X_cleaned.shape"
   ]
  },
  {
   "cell_type": "code",
   "execution_count": 0,
   "metadata": {
    "colab": {
     "base_uri": "https://localhost:8080/",
     "height": 221
    },
    "colab_type": "code",
    "id": "-0erUSz1pyNd",
    "outputId": "0fe596da-3326-4d32-87fe-4206b9eb46aa"
   },
   "outputs": [
    {
     "name": "stdout",
     "output_type": "stream",
     "text": [
      "Model: \"sequential_7\"\n",
      "_________________________________________________________________\n",
      "Layer (type)                 Output Shape              Param #   \n",
      "=================================================================\n",
      "dense_12 (Dense)             (None, 20)                2180      \n",
      "_________________________________________________________________\n",
      "dense_13 (Dense)             (None, 2)                 42        \n",
      "=================================================================\n",
      "Total params: 2,222\n",
      "Trainable params: 2,222\n",
      "Non-trainable params: 0\n",
      "_________________________________________________________________\n"
     ]
    }
   ],
   "source": [
    "from tensorflow.keras import Sequential\n",
    "from tensorflow.keras.layers import Dense\n",
    "\n",
    "model = Sequential()\n",
    "model.add(Dense(20, activation='selu', input_dim=108))\n",
    "model.add(Dense(2, activation='softmax'))\n",
    "model.compile(\n",
    "    optimizer='rmsprop',\n",
    "    loss='categorical_hinge',\n",
    "    metrics=['accuracy']\n",
    ")\n",
    "model.summary()"
   ]
  },
  {
   "cell_type": "markdown",
   "metadata": {
    "colab_type": "text",
    "id": "xzQ1lvcxrxMF"
   },
   "source": [
    "To make this a bit more interesting, we will use a generator this time to feed in our data. We have a choice again - we can use any generator really (i.e. using a function with *yield*) and providing the *steps_per_epoch* parameter, or write a class inherits from *tensorflow.keras.utils.Sequence* that implements the following methods:\n",
    "* ***len()***, for the fit_generator function to know how much more data is to come. This corresponds to *steps_per_epoch* and is $\\text{len}(\\text{data}) // \\text{batch_size}$.\n",
    "* ***__getitem__***(), for the fit_generator to ask for the next batch\n",
    "*  ***on_epoch_end()***, to do some shuffling or other things at the end of an epoch - this is optional.\n",
    "\n",
    "For simplicity, we will take the former approach. If we had not done our preprocessing already, we could put it into this function."
   ]
  },
  {
   "cell_type": "code",
   "execution_count": 0,
   "metadata": {
    "colab": {
     "base_uri": "https://localhost:8080/",
     "height": 1000
    },
    "colab_type": "code",
    "id": "PHlRNv_rraGH",
    "outputId": "517c7b40-4ae0-4cdf-bdc7-3d00aad30fc4"
   },
   "outputs": [
    {
     "name": "stdout",
     "output_type": "stream",
     "text": [
      "Epoch 1/50\n",
      "3256/3256 [==============================] - 8s 3ms/step - loss: 0.4101 - acc: 0.8008\n",
      "Epoch 2/50\n",
      "3256/3256 [==============================] - 7s 2ms/step - loss: 0.3758 - acc: 0.8137\n",
      "Epoch 3/50\n",
      "3256/3256 [==============================] - 7s 2ms/step - loss: 0.3737 - acc: 0.8138\n",
      "Epoch 4/50\n",
      "3256/3256 [==============================] - 7s 2ms/step - loss: 0.3712 - acc: 0.8154\n",
      "Epoch 5/50\n",
      "3256/3256 [==============================] - 7s 2ms/step - loss: 0.3709 - acc: 0.8156\n",
      "Epoch 6/50\n",
      "3256/3256 [==============================] - 7s 2ms/step - loss: 0.3703 - acc: 0.8153\n",
      "Epoch 7/50\n",
      "3256/3256 [==============================] - 7s 2ms/step - loss: 0.3680 - acc: 0.8167\n",
      "Epoch 8/50\n",
      "3256/3256 [==============================] - 7s 2ms/step - loss: 0.3666 - acc: 0.8173\n",
      "Epoch 9/50\n",
      "3256/3256 [==============================] - 7s 2ms/step - loss: 0.3668 - acc: 0.8167\n",
      "Epoch 10/50\n",
      "3256/3256 [==============================] - 7s 2ms/step - loss: 0.3658 - acc: 0.8180\n",
      "Epoch 11/50\n",
      "3256/3256 [==============================] - 7s 2ms/step - loss: 0.3640 - acc: 0.8189\n",
      "Epoch 12/50\n",
      "3256/3256 [==============================] - 7s 2ms/step - loss: 0.3622 - acc: 0.8192\n",
      "Epoch 13/50\n",
      "3256/3256 [==============================] - 7s 2ms/step - loss: 0.3628 - acc: 0.8194\n",
      "Epoch 14/50\n",
      "3256/3256 [==============================] - 7s 2ms/step - loss: 0.3628 - acc: 0.8191\n",
      "Epoch 15/50\n",
      "3256/3256 [==============================] - 7s 2ms/step - loss: 0.3638 - acc: 0.8184\n",
      "Epoch 16/50\n",
      "3256/3256 [==============================] - 7s 2ms/step - loss: 0.3618 - acc: 0.8195\n",
      "Epoch 17/50\n",
      "3256/3256 [==============================] - 7s 2ms/step - loss: 0.3607 - acc: 0.8204\n",
      "Epoch 18/50\n",
      "3256/3256 [==============================] - 7s 2ms/step - loss: 0.3589 - acc: 0.8213\n",
      "Epoch 19/50\n",
      "3256/3256 [==============================] - 7s 2ms/step - loss: 0.3586 - acc: 0.8213\n",
      "Epoch 20/50\n",
      "3256/3256 [==============================] - 7s 2ms/step - loss: 0.3586 - acc: 0.8211\n",
      "Epoch 21/50\n",
      "3256/3256 [==============================] - 7s 2ms/step - loss: 0.3550 - acc: 0.8227\n",
      "Epoch 22/50\n",
      "3256/3256 [==============================] - 7s 2ms/step - loss: 0.3520 - acc: 0.8244\n",
      "Epoch 23/50\n",
      "3256/3256 [==============================] - 7s 2ms/step - loss: 0.3510 - acc: 0.8248\n",
      "Epoch 24/50\n",
      "3256/3256 [==============================] - 7s 2ms/step - loss: 0.3488 - acc: 0.8257\n",
      "Epoch 25/50\n",
      "3256/3256 [==============================] - 7s 2ms/step - loss: 0.3478 - acc: 0.8268\n",
      "Epoch 26/50\n",
      "3256/3256 [==============================] - 7s 2ms/step - loss: 0.3462 - acc: 0.8272\n",
      "Epoch 27/50\n",
      "3256/3256 [==============================] - 7s 2ms/step - loss: 0.3457 - acc: 0.8274\n",
      "Epoch 28/50\n",
      "3256/3256 [==============================] - 7s 2ms/step - loss: 0.3439 - acc: 0.8287\n",
      "Epoch 29/50\n",
      "3256/3256 [==============================] - 7s 2ms/step - loss: 0.3445 - acc: 0.8284\n",
      "Epoch 30/50\n",
      "3256/3256 [==============================] - 7s 2ms/step - loss: 0.3420 - acc: 0.8292\n",
      "Epoch 31/50\n",
      "3256/3256 [==============================] - 7s 2ms/step - loss: 0.3424 - acc: 0.8298\n",
      "Epoch 32/50\n",
      "3256/3256 [==============================] - 7s 2ms/step - loss: 0.3417 - acc: 0.8299\n",
      "Epoch 33/50\n",
      "3256/3256 [==============================] - 7s 2ms/step - loss: 0.3419 - acc: 0.8296\n",
      "Epoch 34/50\n",
      "3256/3256 [==============================] - 7s 2ms/step - loss: 0.3410 - acc: 0.8299\n",
      "Epoch 35/50\n",
      "3256/3256 [==============================] - 7s 2ms/step - loss: 0.3402 - acc: 0.8307\n",
      "Epoch 36/50\n",
      "3256/3256 [==============================] - 7s 2ms/step - loss: 0.3393 - acc: 0.8306\n",
      "Epoch 37/50\n",
      "3256/3256 [==============================] - 7s 2ms/step - loss: 0.3377 - acc: 0.8319\n",
      "Epoch 38/50\n",
      "3256/3256 [==============================] - 8s 2ms/step - loss: 0.3378 - acc: 0.8317\n",
      "Epoch 39/50\n",
      "3256/3256 [==============================] - 7s 2ms/step - loss: 0.3367 - acc: 0.8324\n",
      "Epoch 40/50\n",
      "3256/3256 [==============================] - 7s 2ms/step - loss: 0.3368 - acc: 0.8319\n",
      "Epoch 41/50\n",
      "3256/3256 [==============================] - 7s 2ms/step - loss: 0.3365 - acc: 0.8326\n",
      "Epoch 42/50\n",
      "3256/3256 [==============================] - 7s 2ms/step - loss: 0.3364 - acc: 0.8326\n",
      "Epoch 43/50\n",
      "3256/3256 [==============================] - 7s 2ms/step - loss: 0.3351 - acc: 0.8327\n",
      "Epoch 44/50\n",
      "3256/3256 [==============================] - 7s 2ms/step - loss: 0.3333 - acc: 0.8345\n",
      "Epoch 45/50\n",
      "3256/3256 [==============================] - 7s 2ms/step - loss: 0.3342 - acc: 0.8331\n",
      "Epoch 46/50\n",
      "3256/3256 [==============================] - 7s 2ms/step - loss: 0.3335 - acc: 0.8342\n",
      "Epoch 47/50\n",
      "3256/3256 [==============================] - 7s 2ms/step - loss: 0.3330 - acc: 0.8342\n",
      "Epoch 48/50\n",
      "3256/3256 [==============================] - 7s 2ms/step - loss: 0.3322 - acc: 0.8346\n",
      "Epoch 49/50\n",
      "3256/3256 [==============================] - 7s 2ms/step - loss: 0.3318 - acc: 0.8344\n",
      "Epoch 50/50\n",
      "3256/3256 [==============================] - 7s 2ms/step - loss: 0.3323 - acc: 0.8345\n"
     ]
    }
   ],
   "source": [
    "def adult_feed(X_cleaned, y, batch_size=10, shuffle=True):\n",
    "  def init_batches():\n",
    "    return (\n",
    "        np.zeros((batch_size, X_cleaned.shape[1])),\n",
    "        np.zeros((batch_size, y.shape[1]))\n",
    "        )\n",
    "  batch_x, batch_y = init_batches()\n",
    "  batch_counter = 0\n",
    "  while True:  # this is for every epoch\n",
    "    indexes = np.arange(X_cleaned.shape[0])\n",
    "    if shuffle == True:\n",
    "      np.random.shuffle(indexes)\n",
    "    for index in indexes:\n",
    "      batch_x[batch_counter, :] = X_cleaned[index, :]\n",
    "      batch_y[batch_counter, :] = y[index, :]\n",
    "      batch_counter += 1\n",
    "      if batch_counter >= batch_size:\n",
    "        yield (batch_x, batch_y)\n",
    "        batch_counter = 0\n",
    "        batch_x, batch_y = init_batches()\n",
    "\n",
    "history = model.fit_generator(\n",
    "    adult_feed(X_cleaned, y, 10),\n",
    "    steps_per_epoch=len(X_cleaned) // 10,\n",
    "    epochs=50\n",
    ")"
   ]
  },
  {
   "cell_type": "markdown",
   "metadata": {
    "colab_type": "text",
    "id": "DF5dFA9h1m2E"
   },
   "source": [
    "This time we are going to plot the training progress over epochs from the history instead of using tensorboard. We did not do validation, so we are only going to plot training loss and training accuracy."
   ]
  },
  {
   "cell_type": "code",
   "execution_count": 0,
   "metadata": {
    "colab": {
     "base_uri": "https://localhost:8080/",
     "height": 312
    },
    "colab_type": "code",
    "id": "8jJksUO-04hN",
    "outputId": "3d68f0dd-9301-42a8-bf62-b550c34dff43"
   },
   "outputs": [
    {
     "data": {
      "text/plain": [
       "<matplotlib.legend.Legend at 0x7fc5dd885dd8>"
      ]
     },
     "execution_count": 74,
     "metadata": {
      "tags": []
     },
     "output_type": "execute_result"
    },
    {
     "data": {
      "image/png": "[encoded data removed]",
      "text/plain": [
       "<Figure size 432x288 with 1 Axes>"
      ]
     },
     "metadata": {
      "tags": []
     },
     "output_type": "display_data"
    }
   ],
   "source": [
    "%matplotlib inline\n",
    "import matplotlib.pyplot as plt\n",
    "\n",
    "plt.plot(history.history['accuracy'])\n",
    "plt.plot(history.history['loss'])\n",
    "plt.title('Model Training')\n",
    "plt.ylabel('Accuracy')\n",
    "plt.xlabel('Epoch')\n",
    "plt.legend(['Accuracy', 'Loss'], loc='center left')\n"
   ]
  },
  {
   "cell_type": "markdown",
   "metadata": {
    "colab_type": "text",
    "id": "18GH2yuD2Q4n"
   },
   "source": [
    "Now we are going to predict on test data."
   ]
  },
  {
   "cell_type": "code",
   "execution_count": 0,
   "metadata": {
    "colab": {
     "base_uri": "https://localhost:8080/",
     "height": 204
    },
    "colab_type": "code",
    "id": "GkpjtzHT2Gnr",
    "outputId": "7e9a2324-3e63-4008-d8c9-7611110092a3"
   },
   "outputs": [
    {
     "name": "stdout",
     "output_type": "stream",
     "text": [
      "--2019-12-10 22:10:44--  http://archive.ics.uci.edu/ml/machine-learning-databases/adult/adult.test\n",
      "Resolving archive.ics.uci.edu (archive.ics.uci.edu)... 128.195.10.252\n",
      "Connecting to archive.ics.uci.edu (archive.ics.uci.edu)|128.195.10.252|:80... connected.\n",
      "HTTP request sent, awaiting response... 200 OK\n",
      "Length: 2003153 (1.9M) [application/x-httpd-php]\n",
      "Saving to: ‘adult.test’\n",
      "\n",
      "adult.test          100%[===================>]   1.91M  2.07MB/s    in 0.9s    \n",
      "\n",
      "2019-12-10 22:10:45 (2.07 MB/s) - ‘adult.test’ saved [2003153/2003153]\n",
      "\n"
     ]
    }
   ],
   "source": [
    "!wget http://archive.ics.uci.edu/ml/machine-learning-databases/adult/adult.test"
   ]
  },
  {
   "cell_type": "code",
   "execution_count": 0,
   "metadata": {
    "colab": {
     "base_uri": "https://localhost:8080/",
     "height": 323
    },
    "colab_type": "code",
    "id": "FHiXvnYA2N03",
    "outputId": "b7a95a63-90c2-4367-c0fd-dbdff7da763e"
   },
   "outputs": [
    {
     "data": {
      "text/html": [
       "<div>\n",
       "<style scoped>\n",
       "    .dataframe tbody tr th:only-of-type {\n",
       "        vertical-align: middle;\n",
       "    }\n",
       "\n",
       "    .dataframe tbody tr th {\n",
       "        vertical-align: top;\n",
       "    }\n",
       "\n",
       "    .dataframe thead th {\n",
       "        text-align: right;\n",
       "    }\n",
       "</style>\n",
       "<table border=\"1\" class=\"dataframe\">\n",
       "  <thead>\n",
       "    <tr style=\"text-align: right;\">\n",
       "      <th></th>\n",
       "      <th>age</th>\n",
       "      <th>workclass</th>\n",
       "      <th>fnlwgt</th>\n",
       "      <th>education</th>\n",
       "      <th>education-num</th>\n",
       "      <th>marital-status</th>\n",
       "      <th>occupation</th>\n",
       "      <th>relationship</th>\n",
       "      <th>race</th>\n",
       "      <th>sex</th>\n",
       "      <th>capital-gain</th>\n",
       "      <th>capital-loss</th>\n",
       "      <th>hours-per-week</th>\n",
       "      <th>native-country</th>\n",
       "      <th>50k</th>\n",
       "    </tr>\n",
       "  </thead>\n",
       "  <tbody>\n",
       "    <tr>\n",
       "      <th>0</th>\n",
       "      <td>|1x3 Cross validator</td>\n",
       "      <td>NaN</td>\n",
       "      <td>NaN</td>\n",
       "      <td>NaN</td>\n",
       "      <td>NaN</td>\n",
       "      <td>NaN</td>\n",
       "      <td>NaN</td>\n",
       "      <td>NaN</td>\n",
       "      <td>NaN</td>\n",
       "      <td>NaN</td>\n",
       "      <td>NaN</td>\n",
       "      <td>NaN</td>\n",
       "      <td>NaN</td>\n",
       "      <td>NaN</td>\n",
       "      <td>NaN</td>\n",
       "    </tr>\n",
       "    <tr>\n",
       "      <th>1</th>\n",
       "      <td>25</td>\n",
       "      <td>Private</td>\n",
       "      <td>226802.0</td>\n",
       "      <td>11th</td>\n",
       "      <td>7.0</td>\n",
       "      <td>Never-married</td>\n",
       "      <td>Machine-op-inspct</td>\n",
       "      <td>Own-child</td>\n",
       "      <td>Black</td>\n",
       "      <td>Male</td>\n",
       "      <td>0.0</td>\n",
       "      <td>0.0</td>\n",
       "      <td>40.0</td>\n",
       "      <td>United-States</td>\n",
       "      <td>&lt;=50K.</td>\n",
       "    </tr>\n",
       "    <tr>\n",
       "      <th>2</th>\n",
       "      <td>38</td>\n",
       "      <td>Private</td>\n",
       "      <td>89814.0</td>\n",
       "      <td>HS-grad</td>\n",
       "      <td>9.0</td>\n",
       "      <td>Married-civ-spouse</td>\n",
       "      <td>Farming-fishing</td>\n",
       "      <td>Husband</td>\n",
       "      <td>White</td>\n",
       "      <td>Male</td>\n",
       "      <td>0.0</td>\n",
       "      <td>0.0</td>\n",
       "      <td>50.0</td>\n",
       "      <td>United-States</td>\n",
       "      <td>&lt;=50K.</td>\n",
       "    </tr>\n",
       "    <tr>\n",
       "      <th>3</th>\n",
       "      <td>28</td>\n",
       "      <td>Local-gov</td>\n",
       "      <td>336951.0</td>\n",
       "      <td>Assoc-acdm</td>\n",
       "      <td>12.0</td>\n",
       "      <td>Married-civ-spouse</td>\n",
       "      <td>Protective-serv</td>\n",
       "      <td>Husband</td>\n",
       "      <td>White</td>\n",
       "      <td>Male</td>\n",
       "      <td>0.0</td>\n",
       "      <td>0.0</td>\n",
       "      <td>40.0</td>\n",
       "      <td>United-States</td>\n",
       "      <td>&gt;50K.</td>\n",
       "    </tr>\n",
       "    <tr>\n",
       "      <th>4</th>\n",
       "      <td>44</td>\n",
       "      <td>Private</td>\n",
       "      <td>160323.0</td>\n",
       "      <td>Some-college</td>\n",
       "      <td>10.0</td>\n",
       "      <td>Married-civ-spouse</td>\n",
       "      <td>Machine-op-inspct</td>\n",
       "      <td>Husband</td>\n",
       "      <td>Black</td>\n",
       "      <td>Male</td>\n",
       "      <td>7688.0</td>\n",
       "      <td>0.0</td>\n",
       "      <td>40.0</td>\n",
       "      <td>United-States</td>\n",
       "      <td>&gt;50K.</td>\n",
       "    </tr>\n",
       "  </tbody>\n",
       "</table>\n",
       "</div>"
      ],
      "text/plain": [
       "                    age   workclass  ...  native-country      50k\n",
       "0  |1x3 Cross validator         NaN  ...             NaN      NaN\n",
       "1                    25     Private  ...   United-States   <=50K.\n",
       "2                    38     Private  ...   United-States   <=50K.\n",
       "3                    28   Local-gov  ...   United-States    >50K.\n",
       "4                    44     Private  ...   United-States    >50K.\n",
       "\n",
       "[5 rows x 15 columns]"
      ]
     },
     "execution_count": 76,
     "metadata": {
      "tags": []
     },
     "output_type": "execute_result"
    }
   ],
   "source": [
    "cols = ['age', 'workclass', 'fnlwgt',\n",
    "             'education', 'education-num',\n",
    "             'marital-status', 'occupation',\n",
    "             'relationship', 'race', 'sex',\n",
    "             'capital-gain', 'capital-loss',\n",
    "             'hours-per-week', 'native-country', '50k']\n",
    "\n",
    "test = pd.read_csv(\n",
    "    'adult.test',\n",
    "    names=cols\n",
    ")\n",
    "test.head()"
   ]
  },
  {
   "cell_type": "code",
   "execution_count": 0,
   "metadata": {
    "colab": {
     "base_uri": "https://localhost:8080/",
     "height": 221
    },
    "colab_type": "code",
    "id": "GoUfyUbN3dPu",
    "outputId": "c467121f-3e8e-434c-b2b1-cfa0299d88e4"
   },
   "outputs": [
    {
     "data": {
      "text/plain": [
       "0        14\n",
       "1         0\n",
       "2         0\n",
       "3         0\n",
       "4         0\n",
       "         ..\n",
       "16277     0\n",
       "16278     0\n",
       "16279     0\n",
       "16280     0\n",
       "16281     0\n",
       "Length: 16282, dtype: int64"
      ]
     },
     "execution_count": 81,
     "metadata": {
      "tags": []
     },
     "output_type": "execute_result"
    }
   ],
   "source": [
    "test.isnull().sum(axis=1)"
   ]
  },
  {
   "cell_type": "code",
   "execution_count": 0,
   "metadata": {
    "colab": {
     "base_uri": "https://localhost:8080/",
     "height": 34
    },
    "colab_type": "code",
    "id": "Tvc5I6W93pHy",
    "outputId": "85d1b8e1-1bbf-42ca-eeb4-818d6e112832"
   },
   "outputs": [
    {
     "data": {
      "text/plain": [
       "14"
      ]
     },
     "execution_count": 82,
     "metadata": {
      "tags": []
     },
     "output_type": "execute_result"
    }
   ],
   "source": [
    "test.isnull().sum(axis=1).sum()"
   ]
  },
  {
   "cell_type": "code",
   "execution_count": 0,
   "metadata": {
    "colab": {
     "base_uri": "https://localhost:8080/",
     "height": 34
    },
    "colab_type": "code",
    "id": "Cq6N8vsp3wUe",
    "outputId": "08df2dfe-5cc4-4c44-b009-86d388a1d4af"
   },
   "outputs": [
    {
     "data": {
      "text/plain": [
       "15"
      ]
     },
     "execution_count": 83,
     "metadata": {
      "tags": []
     },
     "output_type": "execute_result"
    }
   ],
   "source": [
    "len(test.columns)"
   ]
  },
  {
   "cell_type": "markdown",
   "metadata": {
    "colab_type": "text",
    "id": "ZFyNFGGF3sJG"
   },
   "source": [
    "The first row has 14 nulls and 1 unusable column of 15 columns. We will discard this row. "
   ]
  },
  {
   "cell_type": "code",
   "execution_count": 0,
   "metadata": {
    "colab": {},
    "colab_type": "code",
    "id": "WaOG-Piz3q6l"
   },
   "outputs": [],
   "source": [
    "test.drop(0, axis=0, inplace=True)"
   ]
  },
  {
   "cell_type": "code",
   "execution_count": 0,
   "metadata": {
    "colab": {},
    "colab_type": "code",
    "id": "E7oUcl7e2ZsL"
   },
   "outputs": [],
   "source": [
    "X_test = standard_scaler.transform(encoder.transform(test[cols[:-1]]))"
   ]
  },
  {
   "cell_type": "code",
   "execution_count": 0,
   "metadata": {
    "colab": {},
    "colab_type": "code",
    "id": "jHcXqC2i4TBB"
   },
   "outputs": [],
   "source": [
    "predictions = model.predict(X_test)"
   ]
  },
  {
   "cell_type": "markdown",
   "metadata": {
    "colab_type": "text",
    "id": "1UNxVM6V5qUj"
   },
   "source": [
    "We will calculate the AUC score using sklearn's inbuilt functions."
   ]
  },
  {
   "cell_type": "code",
   "execution_count": 0,
   "metadata": {
    "colab": {},
    "colab_type": "code",
    "id": "obKwo2HS4X77"
   },
   "outputs": [],
   "source": [
    "from sklearn.metrics import roc_auc_score"
   ]
  },
  {
   "cell_type": "code",
   "execution_count": 0,
   "metadata": {
    "colab": {
     "base_uri": "https://localhost:8080/",
     "height": 34
    },
    "colab_type": "code",
    "id": "bVvlpQRf5ZLT",
    "outputId": "7078a30e-0029-4a3e-fa0d-a04f59d04d74"
   },
   "outputs": [
    {
     "data": {
      "text/plain": [
       "array([' <=50K.', ' >50K.'], dtype=object)"
      ]
     },
     "execution_count": 95,
     "metadata": {
      "tags": []
     },
     "output_type": "execute_result"
    }
   ],
   "source": [
    "test['50k'].unique()"
   ]
  },
  {
   "cell_type": "markdown",
   "metadata": {
    "colab_type": "text",
    "id": "95RDmgAC5dbC"
   },
   "source": [
    "Please note that the targets have slightly different names in the test set."
   ]
  },
  {
   "cell_type": "code",
   "execution_count": 0,
   "metadata": {
    "colab": {},
    "colab_type": "code",
    "id": "MVbMgUAk5i-b"
   },
   "outputs": [],
   "source": [
    "target_lookup = {' <=50K.': 0, ' >50K.': 1 }"
   ]
  },
  {
   "cell_type": "code",
   "execution_count": 0,
   "metadata": {
    "colab": {
     "base_uri": "https://localhost:8080/",
     "height": 34
    },
    "colab_type": "code",
    "id": "vdVQn3hp4o6d",
    "outputId": "5d7bfb3d-1825-4069-a05a-ed64d40fbe05"
   },
   "outputs": [
    {
     "data": {
      "text/plain": [
       "0.754459789971816"
      ]
     },
     "execution_count": 129,
     "metadata": {
      "tags": []
     },
     "output_type": "execute_result"
    }
   ],
   "source": [
    "y_test = test['50k'].apply(\n",
    "    lambda x: target_lookup[x]\n",
    ").values\n",
    "roc_auc_score(y_test, predictions.argmax(axis=1))"
   ]
  },
  {
   "cell_type": "markdown",
   "metadata": {
    "colab_type": "text",
    "id": "Qk8uvplNR4WW"
   },
   "source": [
    "Finally, we are going to check the feature importances of our variables. We are going to use the eli5 package for this."
   ]
  },
  {
   "cell_type": "code",
   "execution_count": 0,
   "metadata": {
    "colab": {
     "base_uri": "https://localhost:8080/",
     "height": 292
    },
    "colab_type": "code",
    "id": "dPFiS5ZsA4Xr",
    "outputId": "f81e7cf5-6e00-408f-b6bd-971a9ea803ed"
   },
   "outputs": [
    {
     "name": "stdout",
     "output_type": "stream",
     "text": [
      "Collecting eli5\n",
      "\u001b[?25l  Downloading https://files.pythonhosted.org/packages/97/2f/c85c7d8f8548e460829971785347e14e45fa5c6617da374711dec8cb38cc/eli5-0.10.1-py2.py3-none-any.whl (105kB)\n",
      "\r",
      "\u001b[K     |███                             | 10kB 19.9MB/s eta 0:00:01\r",
      "\u001b[K     |██████▏                         | 20kB 1.8MB/s eta 0:00:01\r",
      "\u001b[K     |█████████▎                      | 30kB 2.6MB/s eta 0:00:01\r",
      "\u001b[K     |████████████▍                   | 40kB 1.7MB/s eta 0:00:01\r",
      "\u001b[K     |███████████████▌                | 51kB 2.1MB/s eta 0:00:01\r",
      "\u001b[K     |██████████████████▋             | 61kB 2.5MB/s eta 0:00:01\r",
      "\u001b[K     |█████████████████████▊          | 71kB 2.9MB/s eta 0:00:01\r",
      "\u001b[K     |████████████████████████▊       | 81kB 3.3MB/s eta 0:00:01\r",
      "\u001b[K     |███████████████████████████▉    | 92kB 3.7MB/s eta 0:00:01\r",
      "\u001b[K     |███████████████████████████████ | 102kB 2.8MB/s eta 0:00:01\r",
      "\u001b[K     |████████████████████████████████| 112kB 2.8MB/s \n",
      "\u001b[?25hRequirement already satisfied: numpy>=1.9.0 in /usr/local/lib/python3.6/dist-packages (from eli5) (1.17.4)\n",
      "Requirement already satisfied: scipy in /usr/local/lib/python3.6/dist-packages (from eli5) (1.3.3)\n",
      "Requirement already satisfied: scikit-learn>=0.18 in /usr/local/lib/python3.6/dist-packages (from eli5) (0.21.3)\n",
      "Requirement already satisfied: graphviz in /usr/local/lib/python3.6/dist-packages (from eli5) (0.10.1)\n",
      "Requirement already satisfied: jinja2 in /usr/local/lib/python3.6/dist-packages (from eli5) (2.10.3)\n",
      "Requirement already satisfied: attrs>16.0.0 in /usr/local/lib/python3.6/dist-packages (from eli5) (19.3.0)\n",
      "Requirement already satisfied: six in /usr/local/lib/python3.6/dist-packages (from eli5) (1.12.0)\n",
      "Requirement already satisfied: tabulate>=0.7.7 in /usr/local/lib/python3.6/dist-packages (from eli5) (0.8.6)\n",
      "Requirement already satisfied: joblib>=0.11 in /usr/local/lib/python3.6/dist-packages (from scikit-learn>=0.18->eli5) (0.14.0)\n",
      "Requirement already satisfied: MarkupSafe>=0.23 in /usr/local/lib/python3.6/dist-packages (from jinja2->eli5) (1.1.1)\n",
      "Installing collected packages: eli5\n",
      "Successfully installed eli5-0.10.1\n"
     ]
    }
   ],
   "source": [
    "!pip install eli5==0.10.1"
   ]
  },
  {
   "cell_type": "markdown",
   "metadata": {
    "colab_type": "text",
    "id": "7eQXGZrlSBRc"
   },
   "source": [
    "Eli5 can calculate the permutation importance, which measures the increase in the prediction error when feature values are permuted. For this to work we need a scoring function as below."
   ]
  },
  {
   "cell_type": "code",
   "execution_count": 0,
   "metadata": {
    "colab": {},
    "colab_type": "code",
    "id": "8Yp9K6WmONA3"
   },
   "outputs": [],
   "source": [
    "from eli5.permutation_importance import get_score_importances\n",
    "\n",
    "def score(data, y=None, weight=None):\n",
    "  return model.predict(data).argmax(axis=1)\n",
    "\n",
    "base_score, score_decreases = get_score_importances(score, X_test, y_test)\n",
    "feature_importances = np.mean(score_decreases, axis=0).mean(axis=1)"
   ]
  },
  {
   "cell_type": "code",
   "execution_count": 0,
   "metadata": {
    "colab": {
     "base_uri": "https://localhost:8080/",
     "height": 1000
    },
    "colab_type": "code",
    "id": "U6o_CmjbPAY8",
    "outputId": "97fa2bee-f54c-4972-c07b-ea532b54c0b3"
   },
   "outputs": [
    {
     "name": "stdout",
     "output_type": "stream",
     "text": [
      "age: 0.026988514219028318\n",
      "marital-status_2: 0.017492782998587312\n",
      "relationship_4: 0.014286591732694552\n",
      "marital-status_1: 0.011915729992015232\n",
      "education_1: 0.011792887414777962\n",
      "hours-per-week: 0.009471162704993551\n",
      "relationship_1: 0.009274614581413917\n",
      "education-num: 0.00793563048952767\n",
      "occupation_5: 0.007874209200909034\n",
      "relationship_2: 0.007505681469197223\n",
      "sex_2: 0.006682636201707512\n",
      "relationship_3: 0.006633499170812604\n",
      "sex_1: 0.004729439223634912\n",
      "education_4: 0.0033536023585774826\n",
      "occupation_2: 0.003009643142313126\n",
      "education_6: 0.0027025366992199495\n",
      "marital-status_3: 0.0026411154106013145\n",
      "race_1: 0.0026288311528775876\n",
      "workclass_5: 0.0022848719366132305\n",
      "occupation_3: 0.002198882132547141\n",
      "education_9: 0.001928628462625146\n",
      "occupation_1: 0.0019040599471776918\n",
      "marital-status_7: 0.0018917756894539651\n",
      "education_11: 0.0017566488544929672\n",
      "relationship_6: 0.0017443645967692403\n",
      "occupation_10: 0.001646090534979424\n",
      "occupation_11: 0.001609237761808243\n",
      "occupation_12: 0.001609237761808243\n",
      "occupation_13: 0.0016092377618082427\n",
      "workclass_7: 0.0013512683496099747\n",
      "occupation_4: 0.0012038572569252504\n",
      "workclass_4: 0.001105583195135434\n",
      "relationship_5: 0.0010687304219642528\n",
      "capital-loss: 0.0010687304219642528\n",
      "education_5: 0.0009704563601744365\n",
      "education_7: 0.000847613782937166\n",
      "education_13: 0.0007739082365948039\n",
      "workclass_6: 0.0007370554634236226\n",
      "workclass_1: 0.000577360113015171\n",
      "fnlwgt: 0.0005650758552914441\n",
      "occupation_9: 0.0004668017935016277\n",
      "marital-status_4: 0.00045451753577790065\n",
      "education_12: 0.0004176647626067195\n",
      "native-country_7: 0.0003685277317118113\n",
      "native-country_24: 0.0003562434739880843\n",
      "native-country_16: 0.00035624347398808425\n",
      "education_16: 0.0003316749585406302\n",
      "native-country_30: 0.00031939070081690317\n",
      "native-country_20: 0.0003193907008169031\n",
      "race_4: 0.0003071064430931761\n",
      "native-country_36: 0.00025796941219826785\n",
      "native-country_13: 0.00020883238130335976\n",
      "native-country_32: 0.00020883238130335976\n",
      "native-country_40: 0.00019654812357963267\n",
      "native-country_35: 0.00018426386585590566\n",
      "native-country_38: 0.00018426386585590566\n",
      "native-country_34: 0.00017197960813217865\n",
      "marital-status_5: 0.00017197960813217862\n",
      "native-country_25: 0.00017197960813217854\n",
      "education_14: 0.00015969535040845164\n",
      "native-country_33: 0.0001596953504084516\n",
      "native-country_27: 0.00015969535040845153\n",
      "native-country_3: 0.00013512683496099748\n",
      "occupation_15: 0.0001228425772372703\n",
      "native-country_18: 0.0001105583195135434\n",
      "native-country_19: 0.00011055831951354337\n",
      "native-country_23: 0.00011055831951354333\n",
      "native-country_26: 9.827406178981639e-05\n",
      "education_3: 8.59898040660893e-05\n",
      "workclass_8: 7.370554634236229e-05\n",
      "native-country_21: 7.370554634236229e-05\n",
      "native-country_31: 7.370554634236227e-05\n",
      "native-country_28: 7.370554634236219e-05\n",
      "education_10: 6.142128861863521e-05\n",
      "native-country_41: 4.913703089490818e-05\n",
      "education_8: 4.9137030894908086e-05\n",
      "workclass_9: 3.685277317118115e-05\n",
      "native-country_22: 2.4568515447454083e-05\n",
      "native-country_37: 1.2284257723727055e-05\n",
      "native-country_39: 1.2284257723727028e-05\n",
      "native-country_42: 0.0\n",
      "occupation_14: -3.409566441327795e-21\n",
      "native-country_9: -2.4568515447454097e-05\n",
      "native-country_10: -3.685277317118122e-05\n",
      "marital-status_6: -0.00012284257723727045\n",
      "education_15: -0.00022111663902708688\n",
      "native-country_17: -0.0002579694121982679\n",
      "occupation_6: -0.00030710644309317594\n",
      "native-country_2: -0.00031939070081690317\n",
      "race_5: -0.0003316749585406302\n",
      "native-country_4: -0.00039309624715926544\n",
      "native-country_29: -0.000565075855291444\n",
      "native-country_15: -0.0005650758552914441\n",
      "race_3: -0.0007739082365948039\n",
      "native-country_11: -0.0007984767520422579\n",
      "native-country_12: -0.0009581721024507095\n",
      "workclass_3: -0.0011178674528591608\n",
      "education_2: -0.0013758368650574288\n",
      "native-country_8: -0.001388121122781156\n",
      "native-country_14: -0.001400405380504883\n",
      "occupation_7: -0.0015723849886370618\n",
      "native-country_1: -0.001682943308150605\n",
      "native-country_5: -0.0017320803390455134\n",
      "race_2: -0.002530557091087771\n",
      "occupation_8: -0.002542841348811498\n",
      "workclass_2: -0.0025919783797064065\n",
      "native-country_6: -0.0032061912658927585\n",
      "capital-gain: -0.0033413181008537566\n"
     ]
    }
   ],
   "source": [
    "import operator\n",
    "\n",
    "\n",
    "feature_importances_annotated = {col: imp for col, imp in zip(x_cleaned_cols, feature_importances)}\n",
    "sorted_feature_importances_annotated = sorted(feature_importances_annotated.items(), key=operator.itemgetter(1), reverse=True)\n",
    "\n",
    "for k, v in sorted_feature_importances_annotated:\n",
    "  print('{k}: {v}'.format(k=k, v=v))"
   ]
  },
  {
   "cell_type": "markdown",
   "metadata": {
    "colab_type": "text",
    "id": "FzRq8sN59aSn"
   },
   "source": [
    "So, yes, as expected, age is a significant factor."
   ]
  }
 ],
 "metadata": {
  "colab": {
   "collapsed_sections": [],
   "machine_shape": "hm",
   "name": "Modeling and Predicting in Keras",
   "provenance": []
  },
  "kernelspec": {
   "display_name": "Python 3",
   "language": "python",
   "name": "python3"
  },
  "language_info": {
   "codemirror_mode": {
    "name": "ipython",
    "version": 3
   },
   "file_extension": ".py",
   "mimetype": "text/x-python",
   "name": "python",
   "nbconvert_exporter": "python",
   "pygments_lexer": "ipython3",
   "version": "3.8.3"
  }
 },
 "nbformat": 4,
 "nbformat_minor": 1
}
